{
 "cells": [
  {
   "cell_type": "code",
   "execution_count": 18,
   "metadata": {
    "id": "u5n5JSBAqlUj",
    "tags": []
   },
   "outputs": [],
   "source": [
    "# https://docs.python.org/3/library/csv.html\n",
    "# When I start up the application, I am given the following options:\n",
    "# Add a new entry to the budget tracker\n",
    "# Display the total account balance\n",
    "# View all previous entries\n",
    "\n",
    "# If I choose to add a new entry, I am asked to provide:\n",
    "# A title describing the budget item\n",
    "# Whether the budget item is Income or Expense\n",
    "# The total amount of the budget item\n",
    "# The date of the transaction in \"MM-DD-YYYY\" string format\n",
    "\n",
    "import csv\n",
    "# Transactions csv file created\n",
    "# Set up all 4 criteria needed for budget tracker\n",
    "transactions_list = [\n",
    "  {\n",
    "    \"title\": \"Household items\",\n",
    "    \"category\": \"Expense\",\n",
    "    \"amount\": 140,\n",
    "    \"date\": \"8/14/2023\"\n",
    "  }, {\n",
    "    \"title\": \"Laundry\",\n",
    "    \"category\": \"Expense\",\n",
    "    \"amount\": 11,\n",
    "    \"date\": \"8/16/2023\"\n",
    "  }, {\n",
    "    \"title\": \"Insurance\",\n",
    "    \"category\": \"Expense\",\n",
    "    \"amount\": 180,\n",
    "    \"date\": \"8/17/2023\"\n",
    "  }, {\n",
    "    \"title\": \"Gas\",\n",
    "    \"category\": \"Expense\",\n",
    "    \"amount\": 10,\n",
    "    \"date\": \"8/18/2023\"\n",
    "  }, {\n",
    "    \"title\": \"Credit Card Bill\",\n",
    "    \"category\": \"Expense\",\n",
    "    \"amount\": 368,\n",
    "    \"date\": \"8/19/2023\"\n",
    "  }, {\n",
    "    \"title\": \"Check from Grandma\",\n",
    "    \"category\": \"Income\",\n",
    "    \"amount\": 1000,\n",
    "    \"date\": \"8/15/2023\"\n",
    "  }, {\n",
    "    \"title\": \"Cell Phone Bill\",\n",
    "    \"category\": \"Expense\",\n",
    "    \"amount\": 113,\n",
    "    \"date\": \"8/24/2023\"\n",
    "  }\n",
    "]\n",
    "csvfile = open('transactions.csv', 'w')\n",
    "# Create file for writing\n",
    "\n",
    "headers = ['title', 'category', 'amount', 'date']\n",
    "#set the headers\n",
    "\n",
    "writer = csv.DictWriter(csvfile, fieldnames=headers)\n",
    "# make new variable writer for DictWriter object with fieldnames\n",
    "\n",
    "writer.writeheader()\n",
    "# Write a header row\n",
    "\n",
    "writer.writerows(transactions_list)\n",
    "# Write all rows from list to file\n",
    "\n",
    "csvfile.close()"
   ]
  },
  {
   "cell_type": "code",
   "execution_count": 19,
   "metadata": {
    "id": "ac389NfCqfmL",
    "tags": []
   },
   "outputs": [],
   "source": [
    "def view_all_transactions():\n",
    "    with open('./transactions.csv', 'r') as csvfile:\n",
    "        results = csv.DictReader(csvfile, delimiter = ',')\n",
    "# delimiter to make the output look cleaner\n",
    "        for row in results:\n",
    "            print(row[\"title\"] + ' ' + row[\"category\"] + ' ' + row[\"amount\"] + ' ' + row[\"date\"])\n",
    "    # Access the transactions.csv file\n",
    "    # Loop through each csv entry and print relevant details\n",
    "\n",
    "# view_all_transactions()"
   ]
  },
  {
   "cell_type": "code",
   "execution_count": 20,
   "metadata": {
    "id": "87mp767iqfmN",
    "tags": []
   },
   "outputs": [],
   "source": [
    "def view_account_balance():\n",
    "# Make sure that each transaction has the appropriate logic. If you have a total, you need to add the positives\n",
    "# Then negatives will be subtracted\n",
    "# The program adds all income and subtracts all expense items to display the net balance\n",
    "    with open('./transactions.csv', 'r') as csvfile:\n",
    "        results = csv.DictReader(csvfile, delimiter = ',')\n",
    "        balance = 0\n",
    "        for row in results:\n",
    "            #print(row) Just to test what the output is\n",
    "            if row[\"category\"].lower() == \"expense\":\n",
    "                balance -= float(row[\"amount\"])\n",
    "            else:\n",
    "                balance += float(row[\"amount\"])\n",
    "# Access the CSV and begin scanning the files. Need to have two separate columns for income and expenses.\n",
    "        print(f\"Your balance is {balance}\")\n",
    "    # Print the value of the account balance\n",
    "# view_account_balance()"
   ]
  },
  {
   "cell_type": "code",
   "execution_count": 21,
   "metadata": {
    "id": "msqfyGp4qfmP"
   },
   "outputs": [],
   "source": [
    "def add_transaction():\n",
    "# For each input, what is each value in the dictionary?\n",
    "    # Request user input for each of the transaction properties:\n",
    "    # Use a similar loop to the main loop to ensure valid input\n",
    "    # Access the transactions.csv file and write a new row to it\n",
    "    # Set up all 4 criteria needed for budget tracker\n",
    "    name = input('Input the title of the transaction: ')\n",
    "    \n",
    "    category = input('What is the category: ').lower()\n",
    "    while category not in ['income', 'expense']:\n",
    "    # make sure that user inputs those two options only\n",
    "        category = input('Which is it, income or expense: ').lower()\n",
    "    \n",
    "    amount = input('Enter the amount: ')\n",
    "    while amount.isnumeric() == False:\n",
    "        amount = input(\"Enter the amount\")\n",
    "    \n",
    "    date = input('Input the date in mm/dd/yyyy format: ')\n",
    "    \n",
    "    print(category)\n",
    "    \n",
    "    with open('transactions.csv', 'a', newline='') as csvfile:\n",
    "        transaction = {'name': name, 'category': category, 'amount': amount, 'date': date}\n",
    "        writer = csv.DictWriter(csvfile, fieldnames=transaction.keys())\n",
    "\n",
    "        #writer.writeheader()\n",
    "        writer.writerow(transaction)\n",
    "        \n",
    "    csvfile.close()\n",
    "#add_transaction()\n",
    "# MAKE SURE TO ACTIVATE IT BEFORE YOU RUN IT!"
   ]
  },
  {
   "cell_type": "code",
   "execution_count": 23,
   "metadata": {
    "id": "RbbDk8L8qfmG"
   },
   "outputs": [
    {
     "name": "stdout",
     "output_type": "stream",
     "text": [
      "Press [a] to add a transaction, [b] to view the account balance, [v] to view all transactions, or [q] to quit.\n"
     ]
    },
    {
     "name": "stdin",
     "output_type": "stream",
     "text": [
      "What would you like to do? a\n",
      "Input the title of the transaction:  Check from Brother\n",
      "What is the category:  Stuff\n",
      "Which is it, income or expense:  Income\n",
      "Enter the amount:  500\n",
      "Input the date in mm/dd/yyyy format:  8/29/2023\n"
     ]
    },
    {
     "name": "stdout",
     "output_type": "stream",
     "text": [
      "income\n",
      "Press [a] to add a transaction, [b] to view the account balance, [v] to view all transactions, or [q] to quit.\n"
     ]
    },
    {
     "name": "stdin",
     "output_type": "stream",
     "text": [
      "What would you like to do? b\n"
     ]
    },
    {
     "name": "stdout",
     "output_type": "stream",
     "text": [
      "Your balance is 678.0\n",
      "Press [a] to add a transaction, [b] to view the account balance, [v] to view all transactions, or [q] to quit.\n"
     ]
    },
    {
     "name": "stdin",
     "output_type": "stream",
     "text": [
      "What would you like to do? v\n"
     ]
    },
    {
     "name": "stdout",
     "output_type": "stream",
     "text": [
      "Household items Expense 140 8/14/2023\n",
      "Laundry Expense 11 8/16/2023\n",
      "Insurance Expense 180 8/17/2023\n",
      "Gas Expense 10 8/18/2023\n",
      "Credit Card Bill Expense 368 8/19/2023\n",
      "Check from Grandma Income 1000 8/15/2023\n",
      "Cell Phone Bill Expense 113 8/24/2023\n",
      "Check from Brother income 500 8/29/2023\n",
      "Press [a] to add a transaction, [b] to view the account balance, [v] to view all transactions, or [q] to quit.\n"
     ]
    },
    {
     "name": "stdin",
     "output_type": "stream",
     "text": [
      "What would you like to do? a\n",
      "Input the title of the transaction:  Alarm System\n",
      "What is the category:  750\n",
      "Which is it, income or expense:  expense\n",
      "Enter the amount:  750\n",
      "Input the date in mm/dd/yyyy format:  9/1/2023\n"
     ]
    },
    {
     "name": "stdout",
     "output_type": "stream",
     "text": [
      "expense\n",
      "Press [a] to add a transaction, [b] to view the account balance, [v] to view all transactions, or [q] to quit.\n"
     ]
    },
    {
     "name": "stdin",
     "output_type": "stream",
     "text": [
      "What would you like to do? b\n"
     ]
    },
    {
     "name": "stdout",
     "output_type": "stream",
     "text": [
      "Your balance is -72.0\n",
      "Press [a] to add a transaction, [b] to view the account balance, [v] to view all transactions, or [q] to quit.\n"
     ]
    },
    {
     "name": "stdin",
     "output_type": "stream",
     "text": [
      "What would you like to do? v\n"
     ]
    },
    {
     "name": "stdout",
     "output_type": "stream",
     "text": [
      "Household items Expense 140 8/14/2023\n",
      "Laundry Expense 11 8/16/2023\n",
      "Insurance Expense 180 8/17/2023\n",
      "Gas Expense 10 8/18/2023\n",
      "Credit Card Bill Expense 368 8/19/2023\n",
      "Check from Grandma Income 1000 8/15/2023\n",
      "Cell Phone Bill Expense 113 8/24/2023\n",
      "Check from Brother income 500 8/29/2023\n",
      "Alarm System expense 750 9/1/2023\n",
      "Press [a] to add a transaction, [b] to view the account balance, [v] to view all transactions, or [q] to quit.\n"
     ]
    },
    {
     "name": "stdin",
     "output_type": "stream",
     "text": [
      "What would you like to do? q\n"
     ]
    }
   ],
   "source": [
    "with open(\"./transactions.csv\", \"a+\") as file:\n",
    "    current_task = \"\"\n",
    "    while current_task != \"q\":\n",
    "        print(\"Press [a] to add a transaction, [b] to view the account balance, [v] to view all transactions, or [q] to quit.\")\n",
    "        current_task = input(\"What would you like to do?\")\n",
    "        # Use a conditional to respond to what the user has chosen by executing one of the functions defined below\n",
    "        # Now, to create the user script\n",
    "    # Activate and locate the transactions csv file\n",
    "        # Printing out each line from the file\n",
    "        if current_task == 'a':\n",
    "            add_transaction()\n",
    "        elif current_task == 'b':\n",
    "            view_account_balance()\n",
    "        elif current_task == 'v':\n",
    "            view_all_transactions()\n",
    "        else:\n",
    "            break\n",
    "\n",
    "#a = add_transaction()\n",
    "#b = view_account_balance()\n",
    "#v = view_all_transactions()"
   ]
  },
  {
   "cell_type": "code",
   "execution_count": null,
   "metadata": {},
   "outputs": [],
   "source": []
  }
 ],
 "metadata": {
  "colab": {
   "provenance": []
  },
  "kernelspec": {
   "display_name": "Python 3 (ipykernel)",
   "language": "python",
   "name": "python3"
  },
  "language_info": {
   "codemirror_mode": {
    "name": "ipython",
    "version": 3
   },
   "file_extension": ".py",
   "mimetype": "text/x-python",
   "name": "python",
   "nbconvert_exporter": "python",
   "pygments_lexer": "ipython3",
   "version": "3.11.3"
  }
 },
 "nbformat": 4,
 "nbformat_minor": 4
}
